{
 "cells": [
  {
   "cell_type": "markdown",
   "metadata": {},
   "source": [
    "# Challenge Tier - II\n",
    "## Shor's Algorithm\n",
    "\n",
    "## Introduction\n",
    "As its quite obvious now, classical computation has its own limitations and over the years we have learnt to use it to our advantage in some sense. The widely use cryptosystem, RSA, relies on the factoring being impossible for large numbers or integers. Classical computers arent nearly powerful to crack the 128 or 256 bit encryptions we use now.\n",
    "\n",
    "Shor's algorithm shows that using a quantum computer it is possible to factor a number into its primes efficiently. To run this algorithm however, we need millions of qubits and gates and these circuits are too big to run on todays quantum computers. \n",
    "\n",
    "In this task, we will be asking you to implement a very curcial step to implement the shor's algorithm and not the algorithm itself. The algorithm's entire working will not be essential for completing this task \n",
    "but if you would like to understand what's going on in this exercise you might want to check out the working of the shor's algorithm on the whole.\n",
    "\n",
    "## References\n",
    "\n",
    "1) Neilsen and Chuang, the holy grail of books on quantum computing for the theory.\n",
    "\n",
    "2) [Qiskit Textbook page on Shor's algorithm](https://qiskit.org/textbook/ch-algorithms/shor.html), for the code implementation and running on an actual quantum computer"
   ]
  },
  {
   "cell_type": "markdown",
   "metadata": {},
   "source": [
    "## Phase Estimation\n",
    "\n",
    "Phase estimation is a an important problem in quantum computing. Since we are using qubits that can be in any one of the infinite possible states based on their global phases, its important to be able to estimate what this global phase is. \n",
    "\n",
    "For example, take the state $|0\\rangle$, this has a global phase of $ 2n\\pi$, where it can be written as $e^{i2n\\pi}|0\\rangle$. But what if we added a relative phase to it? Lets say, we have $i|0\\rangle$; the phase here is $\\pi$ (or the state is $e^{inpi}|0\\rangle$). \n",
    "\n",
    "To know more about how phase estimation works and how the algorithms works: \n",
    "[Qiskit Textbook page on Quantum Phase Estimation](https://qiskit.org/textbook/ch-algorithms/quantum-phase-estimation.html)\n",
    "\n",
    "How exactly is this relevant to what we are doing here? Well thanks to Peter Shor, it was realised that if we perform a phase estimation on a unitary gate that behaves like $U|y\\rangle = |ay\\bmod N\\rangle$, then we can use it to factorise a given number. "
   ]
  },
  {
   "cell_type": "markdown",
   "metadata": {},
   "source": [
    "## Problem Statement \n",
    "\n",
    "Lets consider an example that has a period of 4. You'll understand why specifically 4 in a while. Consider the unitary operator that performs the following operation:\n",
    "$$\n",
    "U|y\\rangle = |11y\\bmod 61\\rangle\n",
    "$$\n",
    "The end goal of this exercise would be to implement this circuit, but in a very efficient way so that it can be run even on a real quantum computer. Notice that, if we take $|y\\rangle = |1\\rangle$ and we apply the unitary on the state multiple times, \n",
    "\n",
    "$$\n",
    "\\begin{aligned}\n",
    "U|1\\rangle &= |11\\rangle \\\\\n",
    "UU|1\\rangle &= |60\\rangle \\\\\n",
    "UUU|1\\rangle &= |50\\rangle \\\\\n",
    "UUUU|1\\rangle &= |1\\rangle \\\\\n",
    "\\end{aligned}\n",
    "$$\n",
    "\n",
    "So, the unitary that we have chosen specifically here has a period of 4. Usually we'd have to figure out the period of $a^r\\bmod N$ to proceed with the shor's algorithm but our task here is just to implement the unitary itself. We'll be breaking this down into smaller steps. \n",
    "\n",
    "\n",
    "Since we have 4 different states, since the period is 4 we can in a way work this around by 'reassigning' the 4 values to the 4 two-qubit states. \n",
    "\n",
    "$$\n",
    "\\begin{aligned}\n",
    "|1\\rangle &\\rightarrow |00\\rangle \\\\\n",
    "|11\\rangle &\\rightarrow |01\\rangle \\\\\n",
    "|60\\rangle &\\rightarrow |10\\rangle \\\\\n",
    "|50\\rangle &\\rightarrow |11\\rangle \\\\\n",
    "\\end{aligned}\n",
    "$$\n",
    "\n",
    "Now our task just comes down to preparing this unitary (building $U$, $U^2$, $U^4$) for us to use this in a phase estimation circuit to find the phase and hence completing a crucial step in shor's algorithm. \n",
    "\n",
    "</div>\n",
    "<div class=\"alert alert-block alert-danger\">\n",
    "    \n",
    "Your circuit can only contain [CNOTs](https://qiskit.org/documentation/stubs/qiskit.circuit.library.CXGate.html) and single qubit unitary gates [U-gates](https://qiskit.org/documentation/stubs/qiskit.circuit.library.UGate.html). The transpiled circuits will be scored based on the number of CNOTs you use (less is better), as multi-qubit gates are usually much more difficult to carry out on hardware than single-qubit gates. \n",
    "    \n",
    "</div>"
   ]
  },
  {
   "cell_type": "markdown",
   "metadata": {},
   "source": [
    "## Exercises:\n",
    "\n",
    "To implement the phase estimation algorithm, we won't just need a gate that performs U but we'll need controlled operation of U on the target qubit (initialised to $|0\\rangle$). Hence, all the tasks in this notebook would require you to build a controlled operation and finally compile all of them into a phase estimation circuit. \n",
    "\n",
    "\n",
    "### Task 1:\n",
    "Create a circuit ($U$) that performs the unitary transformation described above\n",
    "\n",
    "$$\n",
    "\\begin{aligned}\n",
    "U|1\\rangle &= |11\\rangle \\\\\n",
    "U|11\\rangle &= |60\\rangle \\\\\n",
    "U|60\\rangle &= |50\\rangle \\\\\n",
    "U|50\\rangle &= |1\\rangle \\\\\n",
    "\\end{aligned}\n",
    "$$\n",
    "\n",
    "As mentioned above, you need to have a control qubit `c` and two target qubits `t`. Just add the necessary gates and then run the code cell below. The final submissions must have the circuit visible as the output. \n",
    "\n",
    "Hint: keep in mind that qiskit follows a reverse orientation for repersentation of qubit states while you trey to make sense of the circuit. "
   ]
  },
  {
   "cell_type": "code",
   "execution_count": 4,
   "metadata": {},
   "outputs": [
    {
     "output_type": "execute_result",
     "data": {
      "text/plain": [
       "<Figure size 205.927x204.68 with 1 Axes>"
      ],
      "image/svg+xml": "<?xml version=\"1.0\" encoding=\"utf-8\" standalone=\"no\"?>\r\n<!DOCTYPE svg PUBLIC \"-//W3C//DTD SVG 1.1//EN\"\r\n  \"http://www.w3.org/Graphics/SVG/1.1/DTD/svg11.dtd\">\r\n<!-- Created with matplotlib (https://matplotlib.org/) -->\r\n<svg height=\"168.9334pt\" version=\"1.1\" viewBox=\"0 0 169.87469 168.9334\" width=\"169.87469pt\" xmlns=\"http://www.w3.org/2000/svg\" xmlns:xlink=\"http://www.w3.org/1999/xlink\">\r\n <metadata>\r\n  <rdf:RDF xmlns:cc=\"http://creativecommons.org/ns#\" xmlns:dc=\"http://purl.org/dc/elements/1.1/\" xmlns:rdf=\"http://www.w3.org/1999/02/22-rdf-syntax-ns#\">\r\n   <cc:Work>\r\n    <dc:type rdf:resource=\"http://purl.org/dc/dcmitype/StillImage\"/>\r\n    <dc:date>2021-07-10T22:29:55.903757</dc:date>\r\n    <dc:format>image/svg+xml</dc:format>\r\n    <dc:creator>\r\n     <cc:Agent>\r\n      <dc:title>Matplotlib v3.3.4, https://matplotlib.org/</dc:title>\r\n     </cc:Agent>\r\n    </dc:creator>\r\n   </cc:Work>\r\n  </rdf:RDF>\r\n </metadata>\r\n <defs>\r\n  <style type=\"text/css\">*{stroke-linecap:butt;stroke-linejoin:round;}</style>\r\n </defs>\r\n <g id=\"figure_1\">\r\n  <g id=\"patch_1\">\r\n   <path d=\"M 0 168.9334 \r\nL 169.87469 168.9334 \r\nL 169.87469 0 \r\nL 0 0 \r\nz\r\n\" style=\"fill:#ffffff;\"/>\r\n  </g>\r\n  <g id=\"axes_1\">\r\n   <g id=\"line2d_1\">\r\n    <path clip-path=\"url(#p4f84bede98)\" d=\"M 108.13349 43.5608 \r\nL 158.12959 43.5608 \r\n\" style=\"fill:none;stroke:#000000;stroke-linecap:square;stroke-width:2;\"/>\r\n   </g>\r\n   <g id=\"line2d_2\">\r\n    <path clip-path=\"url(#p4f84bede98)\" d=\"M 108.13349 89.0118 \r\nL 158.12959 89.0118 \r\n\" style=\"fill:none;stroke:#000000;stroke-linecap:square;stroke-width:2;\"/>\r\n   </g>\r\n   <g id=\"line2d_3\">\r\n    <path clip-path=\"url(#p4f84bede98)\" d=\"M 108.13349 134.4628 \r\nL 158.12959 134.4628 \r\n\" style=\"fill:none;stroke:#000000;stroke-linecap:square;stroke-width:2;\"/>\r\n   </g>\r\n   <g id=\"patch_2\">\r\n    <path clip-path=\"url(#p4f84bede98)\" d=\"M 117.905455 149.234375 \r\nL 147.448605 149.234375 \r\nL 147.448605 119.691225 \r\nL 117.905455 119.691225 \r\nz\r\n\" style=\"fill:#05bab6;stroke:#05bab6;stroke-linejoin:miter;stroke-width:1.5;\"/>\r\n   </g>\r\n   <g id=\"text_1\">\r\n    <g clip-path=\"url(#p4f84bede98)\">\r\n     <!-- X -->\r\n     <g transform=\"translate(128.22453 138.049987)scale(0.13 -0.13)\">\r\n      <defs>\r\n       <path d=\"M 6.296875 72.90625 \r\nL 16.890625 72.90625 \r\nL 35.015625 45.796875 \r\nL 53.21875 72.90625 \r\nL 63.8125 72.90625 \r\nL 40.375 37.890625 \r\nL 65.375 0 \r\nL 54.78125 0 \r\nL 34.28125 31 \r\nL 13.625 0 \r\nL 2.984375 0 \r\nL 29 38.921875 \r\nz\r\n\" id=\"DejaVuSans-88\"/>\r\n      </defs>\r\n      <use xlink:href=\"#DejaVuSans-88\"/>\r\n     </g>\r\n    </g>\r\n   </g>\r\n   <g id=\"text_2\">\r\n    <g clip-path=\"url(#p4f84bede98)\">\r\n     <!-- ${control}_{0}$ -->\r\n     <g transform=\"translate(34.53079 48.044784)scale(0.1625 -0.1625)\">\r\n      <defs>\r\n       <path d=\"M 53.609375 52.59375 \r\nL 51.8125 43.703125 \r\nQ 48.578125 46.046875 44.9375 47.21875 \r\nQ 41.3125 48.390625 37.40625 48.390625 \r\nQ 33.109375 48.390625 29.21875 46.875 \r\nQ 25.34375 45.359375 22.703125 42.578125 \r\nQ 18.5 38.328125 16.203125 32.609375 \r\nQ 13.921875 26.90625 13.921875 20.796875 \r\nQ 13.921875 13.421875 17.609375 9.8125 \r\nQ 21.296875 6.203125 28.8125 6.203125 \r\nQ 32.515625 6.203125 36.6875 7.328125 \r\nQ 40.875 8.453125 45.40625 10.6875 \r\nL 43.703125 1.8125 \r\nQ 39.796875 0.203125 35.671875 -0.609375 \r\nQ 31.546875 -1.421875 27.203125 -1.421875 \r\nQ 16.3125 -1.421875 10.453125 4.015625 \r\nQ 4.59375 9.46875 4.59375 19.578125 \r\nQ 4.59375 28.078125 7.640625 35.234375 \r\nQ 10.6875 42.390625 16.703125 48.09375 \r\nQ 20.796875 52 26.3125 54 \r\nQ 31.84375 56 38.375 56 \r\nQ 42.1875 56 45.9375 55.140625 \r\nQ 49.703125 54.296875 53.609375 52.59375 \r\nz\r\n\" id=\"DejaVuSans-Oblique-99\"/>\r\n       <path d=\"M 25.390625 -1.421875 \r\nQ 15.765625 -1.421875 10.171875 4.515625 \r\nQ 4.59375 10.453125 4.59375 20.703125 \r\nQ 4.59375 26.65625 6.515625 32.828125 \r\nQ 8.453125 39.015625 11.53125 43.21875 \r\nQ 16.359375 49.75 22.3125 52.875 \r\nQ 28.265625 56 35.796875 56 \r\nQ 45.125 56 50.859375 50.1875 \r\nQ 56.59375 44.390625 56.59375 35.015625 \r\nQ 56.59375 28.515625 54.6875 22.0625 \r\nQ 52.78125 15.625 49.703125 11.375 \r\nQ 44.921875 4.828125 38.96875 1.703125 \r\nQ 33.015625 -1.421875 25.390625 -1.421875 \r\nz\r\nM 13.921875 21 \r\nQ 13.921875 13.578125 17.015625 9.890625 \r\nQ 20.125 6.203125 26.421875 6.203125 \r\nQ 35.453125 6.203125 41.375 14.078125 \r\nQ 47.3125 21.96875 47.3125 34.078125 \r\nQ 47.3125 41.15625 44.140625 44.765625 \r\nQ 40.96875 48.390625 34.8125 48.390625 \r\nQ 29.734375 48.390625 25.78125 46.015625 \r\nQ 21.828125 43.65625 18.703125 38.8125 \r\nQ 16.40625 35.203125 15.15625 30.5625 \r\nQ 13.921875 25.921875 13.921875 21 \r\nz\r\n\" id=\"DejaVuSans-Oblique-111\"/>\r\n       <path d=\"M 55.71875 33.015625 \r\nL 49.3125 0 \r\nL 40.28125 0 \r\nL 46.6875 32.671875 \r\nQ 47.125 34.96875 47.359375 36.71875 \r\nQ 47.609375 38.484375 47.609375 39.5 \r\nQ 47.609375 43.609375 45.015625 45.890625 \r\nQ 42.4375 48.1875 37.796875 48.1875 \r\nQ 30.5625 48.1875 25.34375 43.375 \r\nQ 20.125 38.578125 18.5 30.328125 \r\nL 12.5 0 \r\nL 3.515625 0 \r\nL 14.109375 54.6875 \r\nL 23.09375 54.6875 \r\nL 21.296875 46.09375 \r\nQ 25.046875 50.828125 30.3125 53.40625 \r\nQ 35.59375 56 41.40625 56 \r\nQ 48.640625 56 52.609375 52.09375 \r\nQ 56.59375 48.1875 56.59375 41.109375 \r\nQ 56.59375 39.359375 56.375 37.359375 \r\nQ 56.15625 35.359375 55.71875 33.015625 \r\nz\r\n\" id=\"DejaVuSans-Oblique-110\"/>\r\n       <path d=\"M 42.28125 54.6875 \r\nL 40.921875 47.703125 \r\nL 23 47.703125 \r\nL 17.1875 18.015625 \r\nQ 16.890625 16.359375 16.75 15.234375 \r\nQ 16.609375 14.109375 16.609375 13.484375 \r\nQ 16.609375 10.359375 18.484375 8.9375 \r\nQ 20.359375 7.515625 24.515625 7.515625 \r\nL 33.59375 7.515625 \r\nL 32.078125 0 \r\nL 23.484375 0 \r\nQ 15.484375 0 11.546875 3.125 \r\nQ 7.625 6.25 7.625 12.59375 \r\nQ 7.625 13.71875 7.765625 15.0625 \r\nQ 7.90625 16.40625 8.203125 18.015625 \r\nL 14.015625 47.703125 \r\nL 6.390625 47.703125 \r\nL 7.8125 54.6875 \r\nL 15.28125 54.6875 \r\nL 18.3125 70.21875 \r\nL 27.296875 70.21875 \r\nL 24.3125 54.6875 \r\nz\r\n\" id=\"DejaVuSans-Oblique-116\"/>\r\n       <path d=\"M 44.578125 46.390625 \r\nQ 43.21875 47.125 41.453125 47.515625 \r\nQ 39.703125 47.90625 37.703125 47.90625 \r\nQ 30.515625 47.90625 25.140625 42.453125 \r\nQ 19.78125 37.015625 18.015625 27.875 \r\nL 12.5 0 \r\nL 3.515625 0 \r\nL 14.203125 54.6875 \r\nL 23.1875 54.6875 \r\nL 21.484375 46.1875 \r\nQ 25.046875 50.921875 30 53.453125 \r\nQ 34.96875 56 40.578125 56 \r\nQ 42.046875 56 43.453125 55.828125 \r\nQ 44.875 55.671875 46.296875 55.28125 \r\nz\r\n\" id=\"DejaVuSans-Oblique-114\"/>\r\n       <path d=\"M 18.3125 75.984375 \r\nL 27.296875 75.984375 \r\nL 12.5 0 \r\nL 3.515625 0 \r\nz\r\n\" id=\"DejaVuSans-Oblique-108\"/>\r\n       <path d=\"M 31.78125 66.40625 \r\nQ 24.171875 66.40625 20.328125 58.90625 \r\nQ 16.5 51.421875 16.5 36.375 \r\nQ 16.5 21.390625 20.328125 13.890625 \r\nQ 24.171875 6.390625 31.78125 6.390625 \r\nQ 39.453125 6.390625 43.28125 13.890625 \r\nQ 47.125 21.390625 47.125 36.375 \r\nQ 47.125 51.421875 43.28125 58.90625 \r\nQ 39.453125 66.40625 31.78125 66.40625 \r\nz\r\nM 31.78125 74.21875 \r\nQ 44.046875 74.21875 50.515625 64.515625 \r\nQ 56.984375 54.828125 56.984375 36.375 \r\nQ 56.984375 17.96875 50.515625 8.265625 \r\nQ 44.046875 -1.421875 31.78125 -1.421875 \r\nQ 19.53125 -1.421875 13.0625 8.265625 \r\nQ 6.59375 17.96875 6.59375 36.375 \r\nQ 6.59375 54.828125 13.0625 64.515625 \r\nQ 19.53125 74.21875 31.78125 74.21875 \r\nz\r\n\" id=\"DejaVuSans-48\"/>\r\n      </defs>\r\n      <use transform=\"translate(0 0.015625)\" xlink:href=\"#DejaVuSans-Oblique-99\"/>\r\n      <use transform=\"translate(54.980469 0.015625)\" xlink:href=\"#DejaVuSans-Oblique-111\"/>\r\n      <use transform=\"translate(116.162109 0.015625)\" xlink:href=\"#DejaVuSans-Oblique-110\"/>\r\n      <use transform=\"translate(179.541016 0.015625)\" xlink:href=\"#DejaVuSans-Oblique-116\"/>\r\n      <use transform=\"translate(218.75 0.015625)\" xlink:href=\"#DejaVuSans-Oblique-114\"/>\r\n      <use transform=\"translate(259.863281 0.015625)\" xlink:href=\"#DejaVuSans-Oblique-111\"/>\r\n      <use transform=\"translate(321.044922 0.015625)\" xlink:href=\"#DejaVuSans-Oblique-108\"/>\r\n      <use transform=\"translate(348.828125 -16.390625)scale(0.7)\" xlink:href=\"#DejaVuSans-48\"/>\r\n     </g>\r\n    </g>\r\n   </g>\r\n   <g id=\"text_3\">\r\n    <g clip-path=\"url(#p4f84bede98)\">\r\n     <!-- ${target}_{0}$ -->\r\n     <g transform=\"translate(41.51829 93.462777)scale(0.1625 -0.1625)\">\r\n      <defs>\r\n       <path d=\"M 53.71875 31.203125 \r\nL 47.609375 0 \r\nL 38.625 0 \r\nL 40.28125 8.296875 \r\nQ 36.328125 3.421875 31.265625 1 \r\nQ 26.21875 -1.421875 20.015625 -1.421875 \r\nQ 13.03125 -1.421875 8.5625 2.84375 \r\nQ 4.109375 7.125 4.109375 13.8125 \r\nQ 4.109375 23.390625 11.75 28.953125 \r\nQ 19.390625 34.515625 32.8125 34.515625 \r\nL 45.3125 34.515625 \r\nL 45.796875 36.921875 \r\nQ 45.90625 37.3125 45.953125 37.765625 \r\nQ 46 38.234375 46 39.203125 \r\nQ 46 43.5625 42.453125 45.96875 \r\nQ 38.921875 48.390625 32.515625 48.390625 \r\nQ 28.125 48.390625 23.5 47.265625 \r\nQ 18.890625 46.140625 14.015625 43.890625 \r\nL 15.578125 52.203125 \r\nQ 20.65625 54.109375 25.515625 55.046875 \r\nQ 30.375 56 34.90625 56 \r\nQ 44.578125 56 49.625 51.796875 \r\nQ 54.6875 47.609375 54.6875 39.59375 \r\nQ 54.6875 37.984375 54.4375 35.8125 \r\nQ 54.203125 33.640625 53.71875 31.203125 \r\nz\r\nM 44 27.484375 \r\nL 35.015625 27.484375 \r\nQ 23.96875 27.484375 18.671875 24.53125 \r\nQ 13.375 21.578125 13.375 15.375 \r\nQ 13.375 11.078125 16.078125 8.640625 \r\nQ 18.796875 6.203125 23.578125 6.203125 \r\nQ 30.90625 6.203125 36.375 11.453125 \r\nQ 41.84375 16.703125 43.609375 25.484375 \r\nz\r\n\" id=\"DejaVuSans-Oblique-97\"/>\r\n       <path d=\"M 59.625 54.6875 \r\nL 50.296875 6.78125 \r\nQ 47.609375 -7.125 40.015625 -13.953125 \r\nQ 32.421875 -20.796875 19.578125 -20.796875 \r\nQ 14.84375 -20.796875 10.78125 -20.09375 \r\nQ 6.734375 -19.390625 3.21875 -17.921875 \r\nL 4.890625 -9.1875 \r\nQ 8.203125 -11.328125 11.90625 -12.34375 \r\nQ 15.625 -13.375 19.828125 -13.375 \r\nQ 28.375 -13.375 33.859375 -8.703125 \r\nQ 39.359375 -4.046875 41.109375 4.6875 \r\nL 41.890625 8.796875 \r\nQ 38.140625 4.5 33.15625 2.25 \r\nQ 28.171875 0 22.40625 0 \r\nQ 14.109375 0 9.34375 5.484375 \r\nQ 4.59375 10.984375 4.59375 20.609375 \r\nQ 4.59375 28.171875 7.46875 35.421875 \r\nQ 10.359375 42.671875 15.578125 48.296875 \r\nQ 19.046875 52 23.65625 54 \r\nQ 28.265625 56 33.296875 56 \r\nQ 38.8125 56 42.90625 53.4375 \r\nQ 47.015625 50.875 49.03125 46.1875 \r\nL 50.59375 54.6875 \r\nz\r\nM 46.09375 34.625 \r\nQ 46.09375 41.265625 42.96875 44.875 \r\nQ 39.84375 48.484375 34.078125 48.484375 \r\nQ 30.515625 48.484375 27.296875 47.0625 \r\nQ 24.078125 45.65625 21.78125 43.109375 \r\nQ 18.0625 38.921875 15.984375 33.234375 \r\nQ 13.921875 27.546875 13.921875 21.484375 \r\nQ 13.921875 14.75 17.0625 11.125 \r\nQ 20.21875 7.515625 26.125 7.515625 \r\nQ 34.671875 7.515625 40.375 15.25 \r\nQ 46.09375 23 46.09375 34.625 \r\nz\r\n\" id=\"DejaVuSans-Oblique-103\"/>\r\n       <path d=\"M 48.09375 32.234375 \r\nQ 48.25 33.015625 48.3125 33.84375 \r\nQ 48.390625 34.671875 48.390625 35.5 \r\nQ 48.390625 41.453125 44.890625 44.921875 \r\nQ 41.40625 48.390625 35.40625 48.390625 \r\nQ 28.71875 48.390625 23.578125 44.15625 \r\nQ 18.453125 39.9375 15.828125 32.171875 \r\nz\r\nM 55.90625 25.203125 \r\nL 14.109375 25.203125 \r\nQ 13.8125 23.34375 13.71875 22.265625 \r\nQ 13.625 21.1875 13.625 20.40625 \r\nQ 13.625 13.625 17.796875 9.90625 \r\nQ 21.96875 6.203125 29.59375 6.203125 \r\nQ 35.453125 6.203125 40.671875 7.515625 \r\nQ 45.90625 8.84375 50.390625 11.375 \r\nL 48.6875 2.484375 \r\nQ 43.84375 0.53125 38.6875 -0.4375 \r\nQ 33.546875 -1.421875 28.21875 -1.421875 \r\nQ 16.84375 -1.421875 10.71875 4.015625 \r\nQ 4.59375 9.46875 4.59375 19.484375 \r\nQ 4.59375 28.03125 7.640625 35.375 \r\nQ 10.6875 42.71875 16.609375 48.484375 \r\nQ 20.40625 52.09375 25.65625 54.046875 \r\nQ 30.90625 56 36.8125 56 \r\nQ 46.09375 56 51.578125 50.4375 \r\nQ 57.078125 44.875 57.078125 35.5 \r\nQ 57.078125 33.25 56.78125 30.6875 \r\nQ 56.5 28.125 55.90625 25.203125 \r\nz\r\n\" id=\"DejaVuSans-Oblique-101\"/>\r\n      </defs>\r\n      <use transform=\"translate(0 0.78125)\" xlink:href=\"#DejaVuSans-Oblique-116\"/>\r\n      <use transform=\"translate(39.208984 0.78125)\" xlink:href=\"#DejaVuSans-Oblique-97\"/>\r\n      <use transform=\"translate(100.488281 0.78125)\" xlink:href=\"#DejaVuSans-Oblique-114\"/>\r\n      <use transform=\"translate(141.601562 0.78125)\" xlink:href=\"#DejaVuSans-Oblique-103\"/>\r\n      <use transform=\"translate(205.078125 0.78125)\" xlink:href=\"#DejaVuSans-Oblique-101\"/>\r\n      <use transform=\"translate(266.601562 0.78125)\" xlink:href=\"#DejaVuSans-Oblique-116\"/>\r\n      <use transform=\"translate(305.810547 -15.625)scale(0.7)\" xlink:href=\"#DejaVuSans-48\"/>\r\n     </g>\r\n    </g>\r\n   </g>\r\n   <g id=\"text_4\">\r\n    <g clip-path=\"url(#p4f84bede98)\">\r\n     <!-- ${target}_{1}$ -->\r\n     <g transform=\"translate(41.51829 138.913777)scale(0.1625 -0.1625)\">\r\n      <defs>\r\n       <path d=\"M 12.40625 8.296875 \r\nL 28.515625 8.296875 \r\nL 28.515625 63.921875 \r\nL 10.984375 60.40625 \r\nL 10.984375 69.390625 \r\nL 28.421875 72.90625 \r\nL 38.28125 72.90625 \r\nL 38.28125 8.296875 \r\nL 54.390625 8.296875 \r\nL 54.390625 0 \r\nL 12.40625 0 \r\nz\r\n\" id=\"DejaVuSans-49\"/>\r\n      </defs>\r\n      <use transform=\"translate(0 0.78125)\" xlink:href=\"#DejaVuSans-Oblique-116\"/>\r\n      <use transform=\"translate(39.208984 0.78125)\" xlink:href=\"#DejaVuSans-Oblique-97\"/>\r\n      <use transform=\"translate(100.488281 0.78125)\" xlink:href=\"#DejaVuSans-Oblique-114\"/>\r\n      <use transform=\"translate(141.601562 0.78125)\" xlink:href=\"#DejaVuSans-Oblique-103\"/>\r\n      <use transform=\"translate(205.078125 0.78125)\" xlink:href=\"#DejaVuSans-Oblique-101\"/>\r\n      <use transform=\"translate(266.601562 0.78125)\" xlink:href=\"#DejaVuSans-Oblique-116\"/>\r\n      <use transform=\"translate(305.810547 -15.625)scale(0.7)\" xlink:href=\"#DejaVuSans-49\"/>\r\n     </g>\r\n    </g>\r\n   </g>\r\n  </g>\r\n </g>\r\n <defs>\r\n  <clipPath id=\"p4f84bede98\">\r\n   <rect height=\"154.5334\" width=\"155.47469\" x=\"7.2\" y=\"7.2\"/>\r\n  </clipPath>\r\n </defs>\r\n</svg>\r\n",
      "image/png": "[encoded data removed]"
     },
     "metadata": {},
     "execution_count": 4
    }
   ],
   "source": [
    "from qiskit import QuantumRegister \n",
    "from qiskit import QuantumCircuit \n",
    "\n",
    "c = QuantumRegister(1, 'control')\n",
    "t = QuantumRegister(2, 'target')\n",
    "\n",
    "cu = QuantumCircuit(c, t, name = \"controlled 13^x mod 35\")\n",
    "\n",
    "# Participant code entry - START\n",
    "cu.x(2)\n",
    "# Participant code entry - END\n",
    "\n",
    "cu.draw('mpl')"
   ]
  },
  {
   "cell_type": "markdown",
   "metadata": {},
   "source": [
    "### Task 2:\n",
    "Create a circuit ($U^2$) that performs the same unitary, but twice with just a single gate. \n",
    "\n",
    "$$\n",
    "\\begin{aligned}\n",
    "U^2|1\\rangle &= |60\\rangle \\\\\n",
    "U^2|11\\rangle &= |50\\rangle \\\\\n",
    "U^2|60\\rangle &= |1\\rangle \\\\\n",
    "U^2|50\\rangle &= |11\\rangle \\\\\n",
    "\\end{aligned}\n",
    "$$\n"
   ]
  },
  {
   "cell_type": "code",
   "execution_count": 6,
   "metadata": {},
   "outputs": [
    {
     "data": {
      "image/png": "[encoded data removed]",
      "text/plain": [
       "<Figure size 145.727x204.68 with 1 Axes>"
      ]
     },
     "execution_count": 6,
     "metadata": {},
     "output_type": "execute_result"
    }
   ],
   "source": [
    "c = QuantumRegister(1, 'control')\n",
    "t = QuantumRegister(2, 'target')\n",
    "cu2 = QuantumCircuit(c, t)\n",
    "\n",
    "# Participant code entry - START\n",
    "\n",
    "\n",
    "# Participant code entry - END\n",
    "cu2.draw('mpl')"
   ]
  },
  {
   "cell_type": "markdown",
   "metadata": {},
   "source": [
    "### Task 3:\n",
    "Create a circuit ($U^4$) that performs the transformation:\n",
    "\n",
    "$$\n",
    "\\begin{aligned}\n",
    "U^4|1\\rangle &= |50\\rangle \\\\\n",
    "U^4|11\\rangle &= |1\\rangle \\\\\n",
    "U^4|60\\rangle &= |11\\rangle \\\\\n",
    "U^4|50\\rangle &= |60\\rangle \\\\\n",
    "\\end{aligned}\n",
    "$$"
   ]
  },
  {
   "cell_type": "code",
   "execution_count": null,
   "metadata": {},
   "outputs": [],
   "source": [
    "c = QuantumRegister(1, 'control')\n",
    "t = QuantumRegister(2, 'target')\n",
    "cu4 = QuantumCircuit(c, t)\n",
    "\n",
    "# Participant code entry - START\n",
    "\n",
    "\n",
    "# Participant code entry - END\n",
    "cu4.draw('mpl')"
   ]
  },
  {
   "cell_type": "markdown",
   "metadata": {},
   "source": [
    "### Task 4:\n",
    "\n",
    "To end the exercise your task would be to complete the phase estimation part of Shor's Algorithm. You will have to try incorporating the circuits you just made into the quantum phase estimation algorithm (dont bother including the QFT); just include the controlled gates.\n",
    "\n",
    "NOTE: We need just the controlled U^x gates and not the entire circuit itself. "
   ]
  },
  {
   "cell_type": "code",
   "execution_count": null,
   "metadata": {},
   "outputs": [],
   "source": [
    "cqr = QuantumRegister(3, 'control')\n",
    "tqr = QuantumRegister(2, 'target')\n",
    "cux = QuantumCircuit(cqr, tqr)\n",
    "\n",
    "# Participant code entry - START\n",
    "\n",
    "\n",
    "# Participant code entry - END\n",
    "\n",
    "cux.draw('mpl')"
   ]
  },
  {
   "cell_type": "markdown",
   "metadata": {},
   "source": [
    "## Additional information\n",
    "\n",
    "**Created by:** Vivek Subramaniam"
   ]
  }
 ],
 "metadata": {
  "kernelspec": {
   "name": "python3",
   "display_name": "Python 3.8.8 64-bit ('Subrahmanyam': virtualenv)"
  },
  "language_info": {
   "codemirror_mode": {
    "name": "ipython",
    "version": 3
   },
   "file_extension": ".py",
   "mimetype": "text/x-python",
   "name": "python",
   "nbconvert_exporter": "python",
   "pygments_lexer": "ipython3",
   "version": "3.8.8"
  },
  "interpreter": {
   "hash": "78be1486fab7f92dba54c403a96eb4ffee6f35426c6e088670417475a569d6db"
  }
 },
 "nbformat": 4,
 "nbformat_minor": 4
}